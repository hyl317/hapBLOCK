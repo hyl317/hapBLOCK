{
 "cells": [
  {
   "cell_type": "markdown",
   "metadata": {},
   "source": [
    "# Call IBD in simulated mosaic data"
   ]
  },
  {
   "cell_type": "code",
   "execution_count": 2,
   "metadata": {},
   "outputs": [],
   "source": [
    "import socket as socket\n",
    "import pandas as pd\n",
    "import os as os\n",
    "import sys as sys\n",
    "import numpy as np\n",
    "import matplotlib.pyplot as plt\n",
    "import multiprocessing as mp\n",
    "from hapsburg.PackagesSupport.parallel_runs.helper_functions import multi_run  # Parallel Runs and forward ground truth\n",
    "\n",
    "\n",
    "sys.path.append(\"/mnt/archgen/users/yilei/tools/hapBLOCK/python3/\")     \n",
    "from run import hapBLOCK_chrom, prep_param_list_chrom"
   ]
  },
  {
   "cell_type": "markdown",
   "metadata": {},
   "source": [
    "# Relevant Helper Functions"
   ]
  },
  {
   "cell_type": "code",
   "execution_count": 3,
   "metadata": {},
   "outputs": [],
   "source": [
    "def split_up_ibd_df(folder_in, folder_out, iid2, \n",
    "                    file_in=\"ibd_info.csv\", file_out=\"ibd_gt.tsv\"):\n",
    "    \"\"\"Splits up the ROH-dataframe from base_path/file_in into file_out.\n",
    "    Picks out Individual iid. Done to pass on \"ground truth\"\n",
    "    base_path: Where to find roh_info.csv\n",
    "    path_out: Where to save roh_gt to (full file)\n",
    "    iid2: Which pair of individuals to extract from ibd_info.csv.\"\"\"\n",
    "    path = os.path.join(folder_in, file_in)\n",
    "    dft = pd.read_csv(path, sep=\"\\t\")  # Load the IBD File\n",
    "\n",
    "    save_df = dft[(dft[\"iid1\"] == iid2[0]) & (dft[\"iid2\"] == iid2[1])]\n",
    "    save_path = os.path.join(folder_out, file_out)\n",
    "    save_df.to_csv(save_path, sep=\"\\t\", index=False)\n",
    "    return\n",
    "\n",
    "def get_sim_iid_pairs(base_iid=\"iid\", n_range=[0,100], suff=[\"A\", \"B\"]):\n",
    "    \"\"\"Return list of simulated IID pairs\"\"\"\n",
    "    iids  = [[base_iid +str(i) + suff[0], base_iid + str(i) + suff[1]] \n",
    "                    for i in np.arange(n_range[0], n_range[1])]\n",
    "    return iids"
   ]
  },
  {
   "cell_type": "markdown",
   "metadata": {},
   "source": [
    "### [skipable] Testrun to call IBD of multiple simulated Mosaics"
   ]
  },
  {
   "cell_type": "code",
   "execution_count": 4,
   "metadata": {},
   "outputs": [],
   "source": [
    "def readIBDList(file):\n",
    "    ibds = []\n",
    "    with open(file) as f:\n",
    "        f.readline()\n",
    "        line = f.readline()\n",
    "        while line:\n",
    "            begin, end, *_ = line.strip().split()\n",
    "            begin, end = 100*float(begin), 100*float(end)\n",
    "            ibds.append((begin, end))\n",
    "            line = f.readline()\n",
    "    return ibds"
   ]
  },
  {
   "cell_type": "code",
   "execution_count": null,
   "metadata": {},
   "outputs": [],
   "source": [
    "iids = get_sim_iid_pairs(n_range=[0,10])\n",
    "basepath = \"/mnt/archgen/users/yilei/tools/hapBLOCK/simulation/test/ch3_20cm/\"\n",
    "folder_in = os.path.join(basepath, \"cov90_sim_ch\")\n",
    "folder_out = os.path.join(basepath, \"inferred\")\n",
    "\n",
    "params = prep_param_list_chrom(iids = iids, ch=3, prefix_out='', output=False,\n",
    "                         folder_in=folder_in, folder_out=folder_out, logfile=True, save=3)\n",
    "\n",
    "############## Run the IBD Inference\n",
    "results = multi_run(hapBLOCK_chrom, params, processes=5)\n",
    "\n",
    "\n",
    "ibds = readIBDList(f'{basepath}/ibd_info.csv')\n",
    "from python.plot_funcs import plot_posterior\n",
    "for iid, ibd in zip(iids, ibds):\n",
    "    id1, id2 = iid\n",
    "    begin, end = ibd\n",
    "    plot_posterior(f'{basepath}/inferred/{id1}_{id2}/chr3/', start=begin-5, end=end+5, prefix=\"\")"
   ]
  },
  {
   "cell_type": "markdown",
   "metadata": {},
   "source": [
    "# test IBD2 model on simulated IBD2 blocks"
   ]
  },
  {
   "cell_type": "code",
   "execution_count": 8,
   "metadata": {},
   "outputs": [
    {
     "name": "stdout",
     "output_type": "stream",
     "text": [
      "Set Output Log to path: /mnt/archgen/users/yilei/tools/hapBLOCK/simulation/IBD2/ch3_20cm/inferred/iid0A_iid0B/chr3/IBD2/hmm_run_log.txt\n",
      "Set Output Log to path: /mnt/archgen/users/yilei/tools/hapBLOCK/simulation/IBD2/ch3_20cm/inferred/iid1A_iid1B/chr3/IBD2/hmm_run_log.txtSet Output Log to path: /mnt/archgen/users/yilei/tools/hapBLOCK/simulation/IBD2/ch3_20cm/inferred/iid4A_iid4B/chr3/IBD2/hmm_run_log.txtSet Output Log to path: /mnt/archgen/users/yilei/tools/hapBLOCK/simulation/IBD2/ch3_20cm/inferred/iid2A_iid2B/chr3/IBD2/hmm_run_log.txt\n",
      "\n",
      "Set Output Log to path: /mnt/archgen/users/yilei/tools/hapBLOCK/simulation/IBD2/ch3_20cm/inferred/iid3A_iid3B/chr3/IBD2/hmm_run_log.txt\n",
      "\n"
     ]
    },
    {
     "data": {
      "text/plain": [
       "<Figure size 432x288 with 0 Axes>"
      ]
     },
     "metadata": {},
     "output_type": "display_data"
    }
   ],
   "source": [
    "iids = get_sim_iid_pairs(n_range=[0,10])\n",
    "basepath = \"/mnt/archgen/users/yilei/tools/hapBLOCK/simulation/IBD2/ch3_20cm/\"\n",
    "folder_in = os.path.join(basepath, \"cov90_err1%_sim_ch\")\n",
    "folder_out = os.path.join(basepath, \"inferred\")\n",
    "\n",
    "params = prep_param_list_chrom(iids = iids, ch=3, prefix_out='IBD2', output=True, e_model=\"IBD2\", p_model=\"IBD2\",\n",
    "                         folder_in=folder_in, folder_out=folder_out, logfile=True, save=3)\n",
    "\n",
    "############## Run the IBD Inference\n",
    "results = multi_run(hapBLOCK_chrom, params, processes=5)\n",
    "\n",
    "ibds = readIBDList(f'{basepath}/ibd_info.csv')\n",
    "from plot.plot_posterior import plot_posterior_7States\n",
    "for iid, ibd in zip(iids, ibds):\n",
    "    id1, id2 = iid\n",
    "    begin, end = ibd\n",
    "    plot_posterior_7States(f'{basepath}/inferred/{id1}_{id2}/chr3/IBD2/', start=begin-5, end=end+5, prefix=\"err1%\")\n"
   ]
  },
  {
   "cell_type": "markdown",
   "metadata": {},
   "source": [
    "# test IBD2 model on simulated IBD1 blocks"
   ]
  },
  {
   "cell_type": "code",
   "execution_count": 6,
   "metadata": {},
   "outputs": [
    {
     "name": "stdout",
     "output_type": "stream",
     "text": [
      "Set Output Log to path: /mnt/archgen/users/yilei/tools/hapBLOCK/simulation/test/ch3_20cm/inferred/iid0A_iid0B/chr3/IBD2/hmm_run_log.txtSet Output Log to path: /mnt/archgen/users/yilei/tools/hapBLOCK/simulation/test/ch3_20cm/inferred/iid3A_iid3B/chr3/IBD2/hmm_run_log.txtSet Output Log to path: /mnt/archgen/users/yilei/tools/hapBLOCK/simulation/test/ch3_20cm/inferred/iid2A_iid2B/chr3/IBD2/hmm_run_log.txtSet Output Log to path: /mnt/archgen/users/yilei/tools/hapBLOCK/simulation/test/ch3_20cm/inferred/iid4A_iid4B/chr3/IBD2/hmm_run_log.txtSet Output Log to path: /mnt/archgen/users/yilei/tools/hapBLOCK/simulation/test/ch3_20cm/inferred/iid1A_iid1B/chr3/IBD2/hmm_run_log.txt\n",
      "\n",
      "\n",
      "\n",
      "\n"
     ]
    },
    {
     "name": "stderr",
     "output_type": "stream",
     "text": [
      "findfont: Font family ['sans-serif'] not found. Falling back to DejaVu Sans.\n",
      "findfont: Font family ['sans-serif'] not found. Falling back to DejaVu Sans.\n"
     ]
    },
    {
     "data": {
      "text/plain": [
       "<Figure size 432x288 with 0 Axes>"
      ]
     },
     "metadata": {},
     "output_type": "display_data"
    }
   ],
   "source": [
    "iids = get_sim_iid_pairs(n_range=[0,10])\n",
    "basepath = \"/mnt/archgen/users/yilei/tools/hapBLOCK/simulation/test/ch3_20cm/\"\n",
    "folder_in = os.path.join(basepath, \"cov90_sim_ch\")\n",
    "folder_out = os.path.join(basepath, \"inferred\")\n",
    "\n",
    "params = prep_param_list_chrom(iids = iids, ch=3, prefix_out='IBD2', output=True, e_model=\"IBD2\", p_model=\"IBD2\",\n",
    "                         folder_in=folder_in, folder_out=folder_out, logfile=True, save=3)\n",
    "\n",
    "############## Run the IBD Inference\n",
    "results = multi_run(hapBLOCK_chrom, params, processes=5)\n",
    "\n",
    "ibds = readIBDList(f'{basepath}/ibd_info.csv')\n",
    "from plot.plot_posterior import plot_posterior_7States\n",
    "for iid, ibd in zip(iids, ibds):\n",
    "    id1, id2 = iid\n",
    "    begin, end = ibd\n",
    "    plot_posterior_7States(f'{basepath}/inferred/{id1}_{id2}/chr3/IBD2/', start=begin-5, end=end+5, prefix=\"\")\n"
   ]
  },
  {
   "cell_type": "markdown",
   "metadata": {},
   "source": [
    "# Run all 100 individuals for all simualted ground truth lengths\n",
    "Takes 1s per CPU per chromosome. In total ~1min, and then 10s for splitting up the ground truth"
   ]
  },
  {
   "cell_type": "code",
   "execution_count": null,
   "metadata": {},
   "outputs": [],
   "source": [
    "iids = get_sim_iid_pairs(n_range=[0,100])\n",
    "prefix_out='default_af/'\n",
    "ch=3\n",
    "\n",
    "for l in [0,4,8,12,16,20]:\n",
    "    basepath = f\"/n/groups/reich/hringbauer/git/hapBLOCK/output/simulated/TSI07s05e1/ch3_{l}cm/\" #TSI05s05e1\n",
    "    folder_in = os.path.join(basepath, \"sim_ch\")\n",
    "    folder_out = os.path.join(basepath, \"inferred\")\n",
    "    params = prep_param_list_chrom(iids = iids, ch=ch, prefix_out=prefix_out, output=False,\n",
    "                             folder_in=folder_in, folder_out=folder_out, logfile=True,\n",
    "                             p_col='variants/AF_ALL',\n",
    "                             ibd_in=1, ibd_out=10, ibd_jump=400, min_cm=2,\n",
    "                             cutoff_post=0.99, max_gap=0.0075)\n",
    "\n",
    "    ############## Run the IBD Inference\n",
    "    multi_run(hapBLOCK_chrom, params, processes=10)\n",
    "    \n",
    "    ############## Split up Ground truth\n",
    "    for iid2 in iids: \n",
    "        iid = \"_\".join(iid2)\n",
    "        folder_out = os.path.join(basepath, \"inferred\", iid, \"chr\"+str(ch), prefix_out)\n",
    "        split_up_ibd_df(basepath, folder_out, iid2,\n",
    "                        file_in='ibd_info.csv', file_out='ibd_gt.tsv')"
   ]
  },
  {
   "cell_type": "markdown",
   "metadata": {},
   "source": [
    "# Legacy"
   ]
  },
  {
   "cell_type": "code",
   "execution_count": null,
   "metadata": {},
   "outputs": [],
   "source": [
    "def prep_param_list(folder_in, iids = [], ch=3,\n",
    "                    folder_out=\"\", output=True, logfile=False, prefix_out=\"default/\",\n",
    "                    l_model=\"hdf5\", e_model=\"haploid_gl\", h_model=\"FiveStateScaled\", \n",
    "                    t_model=\"standard\", p_col=\"variants/AF_ALL\", ibd_in=1, ibd_out=1, ibd_jump=500, min_cm=2,\n",
    "                    cutoff_post=0.99, max_gap=0.0):\n",
    "    \"\"\"Prepare parameter lists for multirun\"\"\"\n",
    "    params = [[folder_in, iid2, ch, folder_out, output, prefix_out, logfile, l_model, e_model,\n",
    "              h_model, t_model, p_col, ibd_in, ibd_out, ibd_jump, min_cm, cutoff_post, max_gap] for iid2 in iids]\n",
    "    assert(len(params[0])==18)\n",
    "    return params"
   ]
  },
  {
   "cell_type": "markdown",
   "metadata": {},
   "source": [
    "# Area 51"
   ]
  }
 ],
 "metadata": {
  "kernelspec": {
   "display_name": "Python 3.8.10 64-bit",
   "language": "python",
   "name": "python3"
  },
  "language_info": {
   "codemirror_mode": {
    "name": "ipython",
    "version": 3
   },
   "file_extension": ".py",
   "mimetype": "text/x-python",
   "name": "python",
   "nbconvert_exporter": "python",
   "pygments_lexer": "ipython3",
   "version": "3.8.10"
  },
  "vscode": {
   "interpreter": {
    "hash": "31f2aee4e71d21fbe5cf8b01ff0e069b9275f58929596ceb00d14d90e3e16cd6"
   }
  }
 },
 "nbformat": 4,
 "nbformat_minor": 4
}
